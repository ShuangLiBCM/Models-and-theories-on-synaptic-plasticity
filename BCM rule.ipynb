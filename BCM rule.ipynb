{
 "cells": [
  {
   "cell_type": "markdown",
   "metadata": {},
   "source": [
    "## The simgle cell theory"
   ]
  },
  {
   "cell_type": "markdown",
   "metadata": {},
   "source": [
    "### The sliding threshold idea"
   ]
  },
  {
   "cell_type": "markdown",
   "metadata": {},
   "source": [
    "Cooper, liberman and Oja (1979) introduced the idea that there may be a modification threshold enforced on post-synaptic activity for synaptic plasticity rules. When presynaptic input triggers the firing activity of post-synaptic neuron that is bigger than the treshold, the change of synaptic weights followes classical hebbian plasticity rules. However, when the post synaptic activity triggered by the inputs is smaller than the threshold, the synaptic strength will be weakened (the non-hebbian zone).\n",
    "\n",
    "Based on this hypothesis, Bienenstock, Cooper and Munro brought up the idea that the modification threshold might be a function of post-synaptic neuronal activity. The theory might be statle given that it is non-linear and the threshold will catch up fast enough on the cell activity and prevent the reverberating increase of the synaptic strengh."
   ]
  },
  {
   "cell_type": "markdown",
   "metadata": {},
   "source": [
    "### Definition and notation"
   ]
  },
  {
   "cell_type": "markdown",
   "metadata": {},
   "source": [
    "Here, they use a simple neuron receiving inputs from both left and right eyes but without intracortical inputs.\n",
    "The output firing activity of the simplified neuron $c$ could be written as the combination of the firing activity of left ($d^l$) and right ($d^r$) inputs with their respective weigths $m^l,m^r$ with the equation $c = m^ld ^l+m^rd^r = \\sum_i m^l_id^l_i + \\sum_j m^r_jd^r_j $\n",
    "\n",
    "We could assume $i\\equiv j$, and use $m^l$ and $m^j$ to regulate the number of synaptic inputs from left and right respectively.Therefore, the output single neuron activity is\n",
    "\n",
    "$c = m^ld ^l+m^rd^r = \\sum_j m^l_jd^l_j + \\sum_j m^r_jd^r_j $\n"
   ]
  },
  {
   "cell_type": "markdown",
   "metadata": {},
   "source": [
    "And based on the rate-based plasticity model, the synaptic plasticity rule could be written as a function that dependents on the input to neuron j and the origeinal weight ($d_j$,$w_j$), the other inputs and weights ($d_k,w_k$),the output of the post synaptic neuron $c$ and its history $\\overline c$, as well as other factors X,Y,Z"
   ]
  },
  {
   "cell_type": "markdown",
   "metadata": {},
   "source": [
    "$\\dot{m_j} = F(d_j,m_j;d_k...m_k;c;\\overline{c};X,Y,Z)$"
   ]
  },
  {
   "cell_type": "markdown",
   "metadata": {},
   "source": [
    "The important characteristics of the parameters are if they are local (only to the updated weights), or quasi-local, which indicates that they are indirectly related to the weights in study.And $\\overline{c}$ represents the time-averaged post-synaptic activity."
   ]
  },
  {
   "cell_type": "markdown",
   "metadata": {},
   "source": [
    "So what is the time scale of $d,m$ and $c$? Variation of input activity that is too short failed to produce plasticity effect, while inputs average over a long time window, e.g. 1 sec, may lose useful information. Therefore, the authors denote that $d$ is obtained through averaging presynaptic activity over a time period that preserves the information needed for synaptic modification within the primary visual cortex.Similar timing scale requirement is applied on synaptic weight $w$. This time scale is applied for each epoch of updateing $w$, which means the synaptic weights do not necessarily need to be changed to its final stage, but the key information is still preserved given the time resolution. Similarly, the time period over which $c$ is average is likely to be some part of a second."
   ]
  },
  {
   "cell_type": "markdown",
   "metadata": {},
   "source": [
    "It is not clear whether c represents the average firing activity of post-synaptic neuron, the integrated post-synaptic depolarization or even the $Ca^{2+}$ concentration. However,as the detailed timing information of $c$ is not key to the updating rule, we could generally assume that the above equation captures the rate-dependent learnin rule.And as the author said, as long as the variable $c$ is a continuous, possibly non-linear function of the sum of inputs times the synaptic efficacies of the relevant inputs), the model is general enough to fit any reasonable definition of the inputs."
   ]
  },
  {
   "cell_type": "markdown",
   "metadata": {},
   "source": [
    "One of the key factor we need to consider is the relative relationship betweent the time interval of $d,m,c$ with respect to threshold $\\theta_m$. Given the setting up of the characteristic time of $d,m,c$ to be around ms to sec, the characteristic time of $\\theta_m$ is on the order of minutes to houts.Therefore, the physhiological mechanism underlying the updating rule of $\\theta_m$ is possibily different from the one that updates $m$"
   ]
  },
  {
   "cell_type": "markdown",
   "metadata": {},
   "source": [
    "### BCM synaptic modification"
   ]
  },
  {
   "cell_type": "code",
   "execution_count": null,
   "metadata": {
    "collapsed": true
   },
   "outputs": [],
   "source": []
  }
 ],
 "metadata": {
  "kernelspec": {
   "display_name": "Python 3",
   "language": "python",
   "name": "python3"
  },
  "language_info": {
   "codemirror_mode": {
    "name": "ipython",
    "version": 3
   },
   "file_extension": ".py",
   "mimetype": "text/x-python",
   "name": "python",
   "nbconvert_exporter": "python",
   "pygments_lexer": "ipython3",
   "version": "3.5.0"
  }
 },
 "nbformat": 4,
 "nbformat_minor": 0
}
